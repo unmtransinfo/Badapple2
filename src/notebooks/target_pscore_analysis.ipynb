{
 "cells": [
  {
   "cell_type": "markdown",
   "metadata": {},
   "source": [
    "# Target vs pScore Analysis\n",
    "This notebook looks at how pScores compare to number of unique (protein) targets for each scaffold, as well as protein families."
   ]
  },
  {
   "cell_type": "markdown",
   "metadata": {},
   "source": [
    "# Setup"
   ]
  },
  {
   "cell_type": "code",
   "execution_count": null,
   "metadata": {},
   "outputs": [],
   "source": [
    "# define DB variables\n",
    "DB_NAME = \"badapple2\"\n",
    "DB_HOST = \"localhost\"\n",
    "DB_USER = \"<your_usr>\"\n",
    "DB_PASSWORD = \"<your_pw>\"\n",
    "# path to list of assayIDs in DB\n",
    "AID_PATH = \"/media/jack/big_disk/data/badapple/badapple2/badapple2_tested.aid\""
   ]
  },
  {
   "cell_type": "code",
   "execution_count": 65,
   "metadata": {},
   "outputs": [],
   "source": [
    "# imports\n",
    "import psycopg2\n",
    "import psycopg2.extras\n",
    "from psycopg2 import sql\n",
    "import pandas as pd\n",
    "import matplotlib.pyplot as plt\n",
    "import numpy as np\n",
    "from matplotlib.ticker import PercentFormatter\n",
    "import seaborn as sns"
   ]
  },
  {
   "cell_type": "markdown",
   "metadata": {},
   "source": [
    "## Connect to DB"
   ]
  },
  {
   "cell_type": "code",
   "execution_count": 66,
   "metadata": {},
   "outputs": [],
   "source": [
    "def db_connect(db_name: str, host: str, user: str, password: str):\n",
    "    try:\n",
    "        db_connection = psycopg2.connect(\n",
    "            dbname=db_name,\n",
    "            host=host,\n",
    "            user=user,\n",
    "            password=password,\n",
    "            cursor_factory=psycopg2.extras.DictCursor,\n",
    "        )\n",
    "        db_connection.set_session(readonly=True)\n",
    "        return db_connection\n",
    "    except Exception as e:\n",
    "        print(e)\n",
    "        print(f\"Error connecting to DB: {db_name}\")\n",
    "        return None"
   ]
  },
  {
   "cell_type": "code",
   "execution_count": 67,
   "metadata": {},
   "outputs": [],
   "source": [
    "db_connection = db_connect(DB_NAME, DB_HOST, DB_USER, DB_PASSWORD)"
   ]
  },
  {
   "cell_type": "code",
   "execution_count": 68,
   "metadata": {},
   "outputs": [],
   "source": [
    "db_cur = db_connection.cursor()"
   ]
  },
  {
   "cell_type": "markdown",
   "metadata": {},
   "source": [
    "## Read AID File"
   ]
  },
  {
   "cell_type": "code",
   "execution_count": 69,
   "metadata": {},
   "outputs": [],
   "source": [
    "def read_aid_file(aid_file_path: str) -> list[int]:\n",
    "    with open(aid_file_path, \"r\") as file:\n",
    "        aid_list = [int(line.strip()) for line in file if line.strip().isdigit()]\n",
    "    return aid_list"
   ]
  },
  {
   "cell_type": "code",
   "execution_count": 70,
   "metadata": {},
   "outputs": [],
   "source": [
    "AID_LIST = read_aid_file(AID_PATH)"
   ]
  },
  {
   "cell_type": "markdown",
   "metadata": {},
   "source": [
    "# Gather Data"
   ]
  },
  {
   "cell_type": "code",
   "execution_count": 71,
   "metadata": {},
   "outputs": [],
   "source": [
    "def get_result(query, db_cursor, db_conn):\n",
    "    result = []\n",
    "    try:\n",
    "        db_cursor.execute(query)\n",
    "        result = db_cursor.fetchall()\n",
    "        return result\n",
    "    except Exception:\n",
    "        db_conn.rollback()\n",
    "    return result"
   ]
  },
  {
   "cell_type": "code",
   "execution_count": 72,
   "metadata": {},
   "outputs": [],
   "source": [
    "def get_data(db_cursor, db_conn, columns: str, table: str):\n",
    "    query = sql.SQL(f\"SELECT {columns} FROM {table}\")\n",
    "    return get_result(query, db_cursor, db_conn)"
   ]
  },
  {
   "cell_type": "code",
   "execution_count": 73,
   "metadata": {},
   "outputs": [],
   "source": [
    "def get_data_df(db_cursor, db_conn, db_cols: str, db_table: str, df_cols: list[str]):\n",
    "    data = get_data(db_cursor, db_conn, db_cols, db_table)\n",
    "    df = pd.DataFrame(data, columns=df_cols)\n",
    "    return df"
   ]
  },
  {
   "cell_type": "markdown",
   "metadata": {},
   "source": [
    "## Get Scaffold IDs and pScores"
   ]
  },
  {
   "cell_type": "code",
   "execution_count": 74,
   "metadata": {},
   "outputs": [],
   "source": [
    "pscore_df = get_data_df(db_cur, db_connection, \"id,pscore\", \"scaffold\", [\"scafid\", \"pscore\"])"
   ]
  },
  {
   "cell_type": "code",
   "execution_count": 75,
   "metadata": {},
   "outputs": [
    {
     "data": {
      "text/html": [
       "<div>\n",
       "<style scoped>\n",
       "    .dataframe tbody tr th:only-of-type {\n",
       "        vertical-align: middle;\n",
       "    }\n",
       "\n",
       "    .dataframe tbody tr th {\n",
       "        vertical-align: top;\n",
       "    }\n",
       "\n",
       "    .dataframe thead th {\n",
       "        text-align: right;\n",
       "    }\n",
       "</style>\n",
       "<table border=\"1\" class=\"dataframe\">\n",
       "  <thead>\n",
       "    <tr style=\"text-align: right;\">\n",
       "      <th></th>\n",
       "      <th>scafid</th>\n",
       "      <th>pscore</th>\n",
       "    </tr>\n",
       "  </thead>\n",
       "  <tbody>\n",
       "    <tr>\n",
       "      <th>0</th>\n",
       "      <td>1423</td>\n",
       "      <td>3.0</td>\n",
       "    </tr>\n",
       "    <tr>\n",
       "      <th>1</th>\n",
       "      <td>8105</td>\n",
       "      <td>3.0</td>\n",
       "    </tr>\n",
       "    <tr>\n",
       "      <th>2</th>\n",
       "      <td>9843</td>\n",
       "      <td>10.0</td>\n",
       "    </tr>\n",
       "    <tr>\n",
       "      <th>3</th>\n",
       "      <td>110</td>\n",
       "      <td>4.0</td>\n",
       "    </tr>\n",
       "    <tr>\n",
       "      <th>4</th>\n",
       "      <td>160</td>\n",
       "      <td>59.0</td>\n",
       "    </tr>\n",
       "    <tr>\n",
       "      <th>...</th>\n",
       "      <td>...</td>\n",
       "      <td>...</td>\n",
       "    </tr>\n",
       "    <tr>\n",
       "      <th>469194</th>\n",
       "      <td>345016</td>\n",
       "      <td>0.0</td>\n",
       "    </tr>\n",
       "    <tr>\n",
       "      <th>469195</th>\n",
       "      <td>345018</td>\n",
       "      <td>0.0</td>\n",
       "    </tr>\n",
       "    <tr>\n",
       "      <th>469196</th>\n",
       "      <td>345020</td>\n",
       "      <td>0.0</td>\n",
       "    </tr>\n",
       "    <tr>\n",
       "      <th>469197</th>\n",
       "      <td>345052</td>\n",
       "      <td>0.0</td>\n",
       "    </tr>\n",
       "    <tr>\n",
       "      <th>469198</th>\n",
       "      <td>345061</td>\n",
       "      <td>0.0</td>\n",
       "    </tr>\n",
       "  </tbody>\n",
       "</table>\n",
       "<p>469199 rows × 2 columns</p>\n",
       "</div>"
      ],
      "text/plain": [
       "        scafid  pscore\n",
       "0         1423     3.0\n",
       "1         8105     3.0\n",
       "2         9843    10.0\n",
       "3          110     4.0\n",
       "4          160    59.0\n",
       "...        ...     ...\n",
       "469194  345016     0.0\n",
       "469195  345018     0.0\n",
       "469196  345020     0.0\n",
       "469197  345052     0.0\n",
       "469198  345061     0.0\n",
       "\n",
       "[469199 rows x 2 columns]"
      ]
     },
     "execution_count": 75,
     "metadata": {},
     "output_type": "execute_result"
    }
   ],
   "source": [
    "pscore_df"
   ]
  },
  {
   "cell_type": "markdown",
   "metadata": {},
   "source": [
    "## Get Targets and Assays"
   ]
  },
  {
   "cell_type": "code",
   "execution_count": 76,
   "metadata": {},
   "outputs": [],
   "source": [
    "TARGET_COLUMNS = \"target_id,type,external_id,external_id_type,name,taxonomy,taxonomy_id,protein_family\"\n",
    "TARGET_COLUMNS_LIST =  TARGET_COLUMNS.split(\",\")"
   ]
  },
  {
   "cell_type": "code",
   "execution_count": 77,
   "metadata": {},
   "outputs": [],
   "source": [
    "target_df = get_data_df(db_cur, db_connection, TARGET_COLUMNS, \"target\", TARGET_COLUMNS_LIST)"
   ]
  },
  {
   "cell_type": "code",
   "execution_count": 78,
   "metadata": {},
   "outputs": [
    {
     "data": {
      "text/html": [
       "<div>\n",
       "<style scoped>\n",
       "    .dataframe tbody tr th:only-of-type {\n",
       "        vertical-align: middle;\n",
       "    }\n",
       "\n",
       "    .dataframe tbody tr th {\n",
       "        vertical-align: top;\n",
       "    }\n",
       "\n",
       "    .dataframe thead th {\n",
       "        text-align: right;\n",
       "    }\n",
       "</style>\n",
       "<table border=\"1\" class=\"dataframe\">\n",
       "  <thead>\n",
       "    <tr style=\"text-align: right;\">\n",
       "      <th></th>\n",
       "      <th>target_id</th>\n",
       "      <th>type</th>\n",
       "      <th>external_id</th>\n",
       "      <th>external_id_type</th>\n",
       "      <th>name</th>\n",
       "      <th>taxonomy</th>\n",
       "      <th>taxonomy_id</th>\n",
       "      <th>protein_family</th>\n",
       "    </tr>\n",
       "  </thead>\n",
       "  <tbody>\n",
       "    <tr>\n",
       "      <th>0</th>\n",
       "      <td>1</td>\n",
       "      <td>Protein</td>\n",
       "      <td>1Y7V_A</td>\n",
       "      <td>NCBI</td>\n",
       "      <td>Chain A, Glucosylceramidase</td>\n",
       "      <td>Homo sapiens (human)</td>\n",
       "      <td>9606.0</td>\n",
       "      <td>None</td>\n",
       "    </tr>\n",
       "    <tr>\n",
       "      <th>1</th>\n",
       "      <td>2</td>\n",
       "      <td>Protein</td>\n",
       "      <td>Q02499</td>\n",
       "      <td>UniProt</td>\n",
       "      <td>Pyruvate kinase</td>\n",
       "      <td>Geobacillus stearothermophilus</td>\n",
       "      <td>1422.0</td>\n",
       "      <td>None</td>\n",
       "    </tr>\n",
       "    <tr>\n",
       "      <th>2</th>\n",
       "      <td>3</td>\n",
       "      <td>Protein</td>\n",
       "      <td>P30305</td>\n",
       "      <td>UniProt</td>\n",
       "      <td>M-phase inducer phosphatase 2</td>\n",
       "      <td>Homo sapiens (human)</td>\n",
       "      <td>9606.0</td>\n",
       "      <td>Enzyme</td>\n",
       "    </tr>\n",
       "    <tr>\n",
       "      <th>3</th>\n",
       "      <td>4</td>\n",
       "      <td>Protein</td>\n",
       "      <td>Q99500</td>\n",
       "      <td>UniProt</td>\n",
       "      <td>Sphingosine 1-phosphate receptor 3</td>\n",
       "      <td>Homo sapiens (human)</td>\n",
       "      <td>9606.0</td>\n",
       "      <td>GPCR</td>\n",
       "    </tr>\n",
       "    <tr>\n",
       "      <th>4</th>\n",
       "      <td>5</td>\n",
       "      <td>Protein</td>\n",
       "      <td>P28562</td>\n",
       "      <td>UniProt</td>\n",
       "      <td>Dual specificity protein phosphatase 1</td>\n",
       "      <td>Homo sapiens (human)</td>\n",
       "      <td>9606.0</td>\n",
       "      <td>Enzyme</td>\n",
       "    </tr>\n",
       "    <tr>\n",
       "      <th>...</th>\n",
       "      <td>...</td>\n",
       "      <td>...</td>\n",
       "      <td>...</td>\n",
       "      <td>...</td>\n",
       "      <td>...</td>\n",
       "      <td>...</td>\n",
       "      <td>...</td>\n",
       "      <td>...</td>\n",
       "    </tr>\n",
       "    <tr>\n",
       "      <th>592</th>\n",
       "      <td>593</td>\n",
       "      <td>Protein</td>\n",
       "      <td>P11086</td>\n",
       "      <td>UniProt</td>\n",
       "      <td>Phenylethanolamine N-methyltransferase</td>\n",
       "      <td>Homo sapiens (human)</td>\n",
       "      <td>9606.0</td>\n",
       "      <td>Enzyme</td>\n",
       "    </tr>\n",
       "    <tr>\n",
       "      <th>593</th>\n",
       "      <td>594</td>\n",
       "      <td>Protein</td>\n",
       "      <td>P21964</td>\n",
       "      <td>UniProt</td>\n",
       "      <td>Catechol O-methyltransferase</td>\n",
       "      <td>Homo sapiens (human)</td>\n",
       "      <td>9606.0</td>\n",
       "      <td>Enzyme</td>\n",
       "    </tr>\n",
       "    <tr>\n",
       "      <th>594</th>\n",
       "      <td>595</td>\n",
       "      <td>Protein</td>\n",
       "      <td>P40261</td>\n",
       "      <td>UniProt</td>\n",
       "      <td>Nicotinamide N-methyltransferase</td>\n",
       "      <td>Homo sapiens (human)</td>\n",
       "      <td>9606.0</td>\n",
       "      <td>Enzyme</td>\n",
       "    </tr>\n",
       "    <tr>\n",
       "      <th>595</th>\n",
       "      <td>596</td>\n",
       "      <td>Protein</td>\n",
       "      <td>Q14353</td>\n",
       "      <td>UniProt</td>\n",
       "      <td>Guanidinoacetate N-methyltransferase</td>\n",
       "      <td>Homo sapiens (human)</td>\n",
       "      <td>9606.0</td>\n",
       "      <td>Enzyme</td>\n",
       "    </tr>\n",
       "    <tr>\n",
       "      <th>596</th>\n",
       "      <td>597</td>\n",
       "      <td>Protein</td>\n",
       "      <td>P03308</td>\n",
       "      <td>UniProt</td>\n",
       "      <td>Genome polyprotein</td>\n",
       "      <td>Foot-and-mouth disease virus (strain A12)</td>\n",
       "      <td>12114.0</td>\n",
       "      <td>None</td>\n",
       "    </tr>\n",
       "  </tbody>\n",
       "</table>\n",
       "<p>597 rows × 8 columns</p>\n",
       "</div>"
      ],
      "text/plain": [
       "     target_id     type external_id external_id_type  \\\n",
       "0            1  Protein      1Y7V_A             NCBI   \n",
       "1            2  Protein      Q02499          UniProt   \n",
       "2            3  Protein      P30305          UniProt   \n",
       "3            4  Protein      Q99500          UniProt   \n",
       "4            5  Protein      P28562          UniProt   \n",
       "..         ...      ...         ...              ...   \n",
       "592        593  Protein      P11086          UniProt   \n",
       "593        594  Protein      P21964          UniProt   \n",
       "594        595  Protein      P40261          UniProt   \n",
       "595        596  Protein      Q14353          UniProt   \n",
       "596        597  Protein      P03308          UniProt   \n",
       "\n",
       "                                       name  \\\n",
       "0               Chain A, Glucosylceramidase   \n",
       "1                           Pyruvate kinase   \n",
       "2             M-phase inducer phosphatase 2   \n",
       "3        Sphingosine 1-phosphate receptor 3   \n",
       "4    Dual specificity protein phosphatase 1   \n",
       "..                                      ...   \n",
       "592  Phenylethanolamine N-methyltransferase   \n",
       "593            Catechol O-methyltransferase   \n",
       "594        Nicotinamide N-methyltransferase   \n",
       "595    Guanidinoacetate N-methyltransferase   \n",
       "596                      Genome polyprotein   \n",
       "\n",
       "                                      taxonomy  taxonomy_id protein_family  \n",
       "0                         Homo sapiens (human)       9606.0           None  \n",
       "1               Geobacillus stearothermophilus       1422.0           None  \n",
       "2                         Homo sapiens (human)       9606.0         Enzyme  \n",
       "3                         Homo sapiens (human)       9606.0           GPCR  \n",
       "4                         Homo sapiens (human)       9606.0         Enzyme  \n",
       "..                                         ...          ...            ...  \n",
       "592                       Homo sapiens (human)       9606.0         Enzyme  \n",
       "593                       Homo sapiens (human)       9606.0         Enzyme  \n",
       "594                       Homo sapiens (human)       9606.0         Enzyme  \n",
       "595                       Homo sapiens (human)       9606.0         Enzyme  \n",
       "596  Foot-and-mouth disease virus (strain A12)      12114.0           None  \n",
       "\n",
       "[597 rows x 8 columns]"
      ]
     },
     "execution_count": 78,
     "metadata": {},
     "output_type": "execute_result"
    }
   ],
   "source": [
    "target_df"
   ]
  },
  {
   "cell_type": "code",
   "execution_count": 79,
   "metadata": {},
   "outputs": [
    {
     "data": {
      "text/html": [
       "<div>\n",
       "<style scoped>\n",
       "    .dataframe tbody tr th:only-of-type {\n",
       "        vertical-align: middle;\n",
       "    }\n",
       "\n",
       "    .dataframe tbody tr th {\n",
       "        vertical-align: top;\n",
       "    }\n",
       "\n",
       "    .dataframe thead th {\n",
       "        text-align: right;\n",
       "    }\n",
       "</style>\n",
       "<table border=\"1\" class=\"dataframe\">\n",
       "  <thead>\n",
       "    <tr style=\"text-align: right;\">\n",
       "      <th></th>\n",
       "      <th>target_id</th>\n",
       "      <th>protein_family</th>\n",
       "    </tr>\n",
       "  </thead>\n",
       "  <tbody>\n",
       "    <tr>\n",
       "      <th>0</th>\n",
       "      <td>1</td>\n",
       "      <td>None</td>\n",
       "    </tr>\n",
       "    <tr>\n",
       "      <th>1</th>\n",
       "      <td>2</td>\n",
       "      <td>None</td>\n",
       "    </tr>\n",
       "    <tr>\n",
       "      <th>2</th>\n",
       "      <td>3</td>\n",
       "      <td>Enzyme</td>\n",
       "    </tr>\n",
       "    <tr>\n",
       "      <th>3</th>\n",
       "      <td>4</td>\n",
       "      <td>GPCR</td>\n",
       "    </tr>\n",
       "    <tr>\n",
       "      <th>4</th>\n",
       "      <td>5</td>\n",
       "      <td>Enzyme</td>\n",
       "    </tr>\n",
       "    <tr>\n",
       "      <th>...</th>\n",
       "      <td>...</td>\n",
       "      <td>...</td>\n",
       "    </tr>\n",
       "    <tr>\n",
       "      <th>592</th>\n",
       "      <td>593</td>\n",
       "      <td>Enzyme</td>\n",
       "    </tr>\n",
       "    <tr>\n",
       "      <th>593</th>\n",
       "      <td>594</td>\n",
       "      <td>Enzyme</td>\n",
       "    </tr>\n",
       "    <tr>\n",
       "      <th>594</th>\n",
       "      <td>595</td>\n",
       "      <td>Enzyme</td>\n",
       "    </tr>\n",
       "    <tr>\n",
       "      <th>595</th>\n",
       "      <td>596</td>\n",
       "      <td>Enzyme</td>\n",
       "    </tr>\n",
       "    <tr>\n",
       "      <th>596</th>\n",
       "      <td>597</td>\n",
       "      <td>None</td>\n",
       "    </tr>\n",
       "  </tbody>\n",
       "</table>\n",
       "<p>566 rows × 2 columns</p>\n",
       "</div>"
      ],
      "text/plain": [
       "     target_id protein_family\n",
       "0            1           None\n",
       "1            2           None\n",
       "2            3         Enzyme\n",
       "3            4           GPCR\n",
       "4            5         Enzyme\n",
       "..         ...            ...\n",
       "592        593         Enzyme\n",
       "593        594         Enzyme\n",
       "594        595         Enzyme\n",
       "595        596         Enzyme\n",
       "596        597           None\n",
       "\n",
       "[566 rows x 2 columns]"
      ]
     },
     "execution_count": 79,
     "metadata": {},
     "output_type": "execute_result"
    }
   ],
   "source": [
    "protein_target_df = target_df[target_df[\"type\"] == \"Protein\"]\n",
    "protein_target_df[[\"target_id\", \"protein_family\"]]"
   ]
  },
  {
   "cell_type": "markdown",
   "metadata": {},
   "source": [
    "## Get Scaffold2Target Map"
   ]
  },
  {
   "cell_type": "code",
   "execution_count": 80,
   "metadata": {},
   "outputs": [],
   "source": [
    "def get_scaf2target(db_cursor, db_conn):\n",
    "    query = sql.SQL(\n",
    "        \"\"\"\n",
    "SELECT \n",
    "scaf2activeaid.scafid,\n",
    "aid2target.target_id\n",
    "FROM \n",
    "aid2target \n",
    "RIGHT JOIN  \n",
    "scaf2activeaid \n",
    "ON aid2target.aid = scaf2activeaid.aid;\n",
    "\"\"\"\n",
    "    )\n",
    "    return get_result(query, db_cursor, db_conn)"
   ]
  },
  {
   "cell_type": "code",
   "execution_count": 81,
   "metadata": {},
   "outputs": [],
   "source": [
    "scaf2target_data = get_scaf2target(db_cur, db_connection)"
   ]
  },
  {
   "cell_type": "code",
   "execution_count": 82,
   "metadata": {},
   "outputs": [],
   "source": [
    "scaf2target_df = pd.DataFrame(scaf2target_data, columns=[\"scafid\", \"target_id\"], dtype=pd.Int64Dtype())"
   ]
  },
  {
   "cell_type": "code",
   "execution_count": 83,
   "metadata": {},
   "outputs": [
    {
     "data": {
      "text/html": [
       "<div>\n",
       "<style scoped>\n",
       "    .dataframe tbody tr th:only-of-type {\n",
       "        vertical-align: middle;\n",
       "    }\n",
       "\n",
       "    .dataframe tbody tr th {\n",
       "        vertical-align: top;\n",
       "    }\n",
       "\n",
       "    .dataframe thead th {\n",
       "        text-align: right;\n",
       "    }\n",
       "</style>\n",
       "<table border=\"1\" class=\"dataframe\">\n",
       "  <thead>\n",
       "    <tr style=\"text-align: right;\">\n",
       "      <th></th>\n",
       "      <th>scafid</th>\n",
       "      <th>target_id</th>\n",
       "    </tr>\n",
       "  </thead>\n",
       "  <tbody>\n",
       "    <tr>\n",
       "      <th>0</th>\n",
       "      <td>0</td>\n",
       "      <td>&lt;NA&gt;</td>\n",
       "    </tr>\n",
       "    <tr>\n",
       "      <th>1</th>\n",
       "      <td>0</td>\n",
       "      <td>217</td>\n",
       "    </tr>\n",
       "    <tr>\n",
       "      <th>2</th>\n",
       "      <td>0</td>\n",
       "      <td>&lt;NA&gt;</td>\n",
       "    </tr>\n",
       "    <tr>\n",
       "      <th>3</th>\n",
       "      <td>0</td>\n",
       "      <td>499</td>\n",
       "    </tr>\n",
       "    <tr>\n",
       "      <th>4</th>\n",
       "      <td>0</td>\n",
       "      <td>462</td>\n",
       "    </tr>\n",
       "    <tr>\n",
       "      <th>...</th>\n",
       "      <td>...</td>\n",
       "      <td>...</td>\n",
       "    </tr>\n",
       "    <tr>\n",
       "      <th>2653454</th>\n",
       "      <td>467320</td>\n",
       "      <td>595</td>\n",
       "    </tr>\n",
       "    <tr>\n",
       "      <th>2653455</th>\n",
       "      <td>467320</td>\n",
       "      <td>594</td>\n",
       "    </tr>\n",
       "    <tr>\n",
       "      <th>2653456</th>\n",
       "      <td>467320</td>\n",
       "      <td>593</td>\n",
       "    </tr>\n",
       "    <tr>\n",
       "      <th>2653457</th>\n",
       "      <td>467320</td>\n",
       "      <td>592</td>\n",
       "    </tr>\n",
       "    <tr>\n",
       "      <th>2653458</th>\n",
       "      <td>467320</td>\n",
       "      <td>591</td>\n",
       "    </tr>\n",
       "  </tbody>\n",
       "</table>\n",
       "<p>2653459 rows × 2 columns</p>\n",
       "</div>"
      ],
      "text/plain": [
       "         scafid  target_id\n",
       "0             0       <NA>\n",
       "1             0        217\n",
       "2             0       <NA>\n",
       "3             0        499\n",
       "4             0        462\n",
       "...         ...        ...\n",
       "2653454  467320        595\n",
       "2653455  467320        594\n",
       "2653456  467320        593\n",
       "2653457  467320        592\n",
       "2653458  467320        591\n",
       "\n",
       "[2653459 rows x 2 columns]"
      ]
     },
     "execution_count": 83,
     "metadata": {},
     "output_type": "execute_result"
    }
   ],
   "source": [
    "scaf2target_df"
   ]
  },
  {
   "cell_type": "code",
   "execution_count": 84,
   "metadata": {},
   "outputs": [
    {
     "data": {
      "text/plain": [
       "True"
      ]
     },
     "execution_count": 84,
     "metadata": {},
     "output_type": "execute_result"
    }
   ],
   "source": [
    "pd.isna(scaf2target_df[\"target_id\"].iloc[0])"
   ]
  },
  {
   "cell_type": "code",
   "execution_count": 85,
   "metadata": {},
   "outputs": [],
   "source": [
    "scaf2target_nonan_df = scaf2target_df.dropna(axis=0, how=\"any\")"
   ]
  },
  {
   "cell_type": "code",
   "execution_count": 86,
   "metadata": {},
   "outputs": [
    {
     "data": {
      "text/html": [
       "<div>\n",
       "<style scoped>\n",
       "    .dataframe tbody tr th:only-of-type {\n",
       "        vertical-align: middle;\n",
       "    }\n",
       "\n",
       "    .dataframe tbody tr th {\n",
       "        vertical-align: top;\n",
       "    }\n",
       "\n",
       "    .dataframe thead th {\n",
       "        text-align: right;\n",
       "    }\n",
       "</style>\n",
       "<table border=\"1\" class=\"dataframe\">\n",
       "  <thead>\n",
       "    <tr style=\"text-align: right;\">\n",
       "      <th></th>\n",
       "      <th>scafid</th>\n",
       "      <th>target_id</th>\n",
       "    </tr>\n",
       "  </thead>\n",
       "  <tbody>\n",
       "    <tr>\n",
       "      <th>1</th>\n",
       "      <td>0</td>\n",
       "      <td>217</td>\n",
       "    </tr>\n",
       "    <tr>\n",
       "      <th>3</th>\n",
       "      <td>0</td>\n",
       "      <td>499</td>\n",
       "    </tr>\n",
       "    <tr>\n",
       "      <th>4</th>\n",
       "      <td>0</td>\n",
       "      <td>462</td>\n",
       "    </tr>\n",
       "    <tr>\n",
       "      <th>5</th>\n",
       "      <td>0</td>\n",
       "      <td>92</td>\n",
       "    </tr>\n",
       "    <tr>\n",
       "      <th>6</th>\n",
       "      <td>0</td>\n",
       "      <td>91</td>\n",
       "    </tr>\n",
       "    <tr>\n",
       "      <th>...</th>\n",
       "      <td>...</td>\n",
       "      <td>...</td>\n",
       "    </tr>\n",
       "    <tr>\n",
       "      <th>2653454</th>\n",
       "      <td>467320</td>\n",
       "      <td>595</td>\n",
       "    </tr>\n",
       "    <tr>\n",
       "      <th>2653455</th>\n",
       "      <td>467320</td>\n",
       "      <td>594</td>\n",
       "    </tr>\n",
       "    <tr>\n",
       "      <th>2653456</th>\n",
       "      <td>467320</td>\n",
       "      <td>593</td>\n",
       "    </tr>\n",
       "    <tr>\n",
       "      <th>2653457</th>\n",
       "      <td>467320</td>\n",
       "      <td>592</td>\n",
       "    </tr>\n",
       "    <tr>\n",
       "      <th>2653458</th>\n",
       "      <td>467320</td>\n",
       "      <td>591</td>\n",
       "    </tr>\n",
       "  </tbody>\n",
       "</table>\n",
       "<p>2119487 rows × 2 columns</p>\n",
       "</div>"
      ],
      "text/plain": [
       "         scafid  target_id\n",
       "1             0        217\n",
       "3             0        499\n",
       "4             0        462\n",
       "5             0         92\n",
       "6             0         91\n",
       "...         ...        ...\n",
       "2653454  467320        595\n",
       "2653455  467320        594\n",
       "2653456  467320        593\n",
       "2653457  467320        592\n",
       "2653458  467320        591\n",
       "\n",
       "[2119487 rows x 2 columns]"
      ]
     },
     "execution_count": 86,
     "metadata": {},
     "output_type": "execute_result"
    }
   ],
   "source": [
    "scaf2target_nonan_df"
   ]
  },
  {
   "cell_type": "code",
   "execution_count": 87,
   "metadata": {},
   "outputs": [],
   "source": [
    "scaf2prottarget_df = scaf2target_nonan_df[scaf2target_nonan_df[\"target_id\"].isin(protein_target_df[\"target_id\"])]"
   ]
  },
  {
   "cell_type": "code",
   "execution_count": 88,
   "metadata": {},
   "outputs": [
    {
     "data": {
      "text/html": [
       "<div>\n",
       "<style scoped>\n",
       "    .dataframe tbody tr th:only-of-type {\n",
       "        vertical-align: middle;\n",
       "    }\n",
       "\n",
       "    .dataframe tbody tr th {\n",
       "        vertical-align: top;\n",
       "    }\n",
       "\n",
       "    .dataframe thead th {\n",
       "        text-align: right;\n",
       "    }\n",
       "</style>\n",
       "<table border=\"1\" class=\"dataframe\">\n",
       "  <thead>\n",
       "    <tr style=\"text-align: right;\">\n",
       "      <th></th>\n",
       "      <th>scafid</th>\n",
       "      <th>target_id</th>\n",
       "    </tr>\n",
       "  </thead>\n",
       "  <tbody>\n",
       "    <tr>\n",
       "      <th>1</th>\n",
       "      <td>0</td>\n",
       "      <td>217</td>\n",
       "    </tr>\n",
       "    <tr>\n",
       "      <th>3</th>\n",
       "      <td>0</td>\n",
       "      <td>499</td>\n",
       "    </tr>\n",
       "    <tr>\n",
       "      <th>4</th>\n",
       "      <td>0</td>\n",
       "      <td>462</td>\n",
       "    </tr>\n",
       "    <tr>\n",
       "      <th>5</th>\n",
       "      <td>0</td>\n",
       "      <td>92</td>\n",
       "    </tr>\n",
       "    <tr>\n",
       "      <th>6</th>\n",
       "      <td>0</td>\n",
       "      <td>91</td>\n",
       "    </tr>\n",
       "    <tr>\n",
       "      <th>...</th>\n",
       "      <td>...</td>\n",
       "      <td>...</td>\n",
       "    </tr>\n",
       "    <tr>\n",
       "      <th>2653454</th>\n",
       "      <td>467320</td>\n",
       "      <td>595</td>\n",
       "    </tr>\n",
       "    <tr>\n",
       "      <th>2653455</th>\n",
       "      <td>467320</td>\n",
       "      <td>594</td>\n",
       "    </tr>\n",
       "    <tr>\n",
       "      <th>2653456</th>\n",
       "      <td>467320</td>\n",
       "      <td>593</td>\n",
       "    </tr>\n",
       "    <tr>\n",
       "      <th>2653457</th>\n",
       "      <td>467320</td>\n",
       "      <td>592</td>\n",
       "    </tr>\n",
       "    <tr>\n",
       "      <th>2653458</th>\n",
       "      <td>467320</td>\n",
       "      <td>591</td>\n",
       "    </tr>\n",
       "  </tbody>\n",
       "</table>\n",
       "<p>1989807 rows × 2 columns</p>\n",
       "</div>"
      ],
      "text/plain": [
       "         scafid  target_id\n",
       "1             0        217\n",
       "3             0        499\n",
       "4             0        462\n",
       "5             0         92\n",
       "6             0         91\n",
       "...         ...        ...\n",
       "2653454  467320        595\n",
       "2653455  467320        594\n",
       "2653456  467320        593\n",
       "2653457  467320        592\n",
       "2653458  467320        591\n",
       "\n",
       "[1989807 rows x 2 columns]"
      ]
     },
     "execution_count": 88,
     "metadata": {},
     "output_type": "execute_result"
    }
   ],
   "source": [
    "scaf2prottarget_df"
   ]
  },
  {
   "cell_type": "code",
   "execution_count": 89,
   "metadata": {},
   "outputs": [],
   "source": [
    "merged_df = pd.merge(scaf2prottarget_df, pscore_df, on=\"scafid\", how=\"right\")"
   ]
  },
  {
   "cell_type": "code",
   "execution_count": 90,
   "metadata": {},
   "outputs": [
    {
     "data": {
      "text/html": [
       "<div>\n",
       "<style scoped>\n",
       "    .dataframe tbody tr th:only-of-type {\n",
       "        vertical-align: middle;\n",
       "    }\n",
       "\n",
       "    .dataframe tbody tr th {\n",
       "        vertical-align: top;\n",
       "    }\n",
       "\n",
       "    .dataframe thead th {\n",
       "        text-align: right;\n",
       "    }\n",
       "</style>\n",
       "<table border=\"1\" class=\"dataframe\">\n",
       "  <thead>\n",
       "    <tr style=\"text-align: right;\">\n",
       "      <th></th>\n",
       "      <th>scafid</th>\n",
       "      <th>target_id</th>\n",
       "      <th>pscore</th>\n",
       "    </tr>\n",
       "  </thead>\n",
       "  <tbody>\n",
       "    <tr>\n",
       "      <th>0</th>\n",
       "      <td>1423</td>\n",
       "      <td>249</td>\n",
       "      <td>3.0</td>\n",
       "    </tr>\n",
       "    <tr>\n",
       "      <th>1</th>\n",
       "      <td>1423</td>\n",
       "      <td>248</td>\n",
       "      <td>3.0</td>\n",
       "    </tr>\n",
       "    <tr>\n",
       "      <th>2</th>\n",
       "      <td>1423</td>\n",
       "      <td>461</td>\n",
       "      <td>3.0</td>\n",
       "    </tr>\n",
       "    <tr>\n",
       "      <th>3</th>\n",
       "      <td>1423</td>\n",
       "      <td>31</td>\n",
       "      <td>3.0</td>\n",
       "    </tr>\n",
       "    <tr>\n",
       "      <th>4</th>\n",
       "      <td>1423</td>\n",
       "      <td>294</td>\n",
       "      <td>3.0</td>\n",
       "    </tr>\n",
       "    <tr>\n",
       "      <th>...</th>\n",
       "      <td>...</td>\n",
       "      <td>...</td>\n",
       "      <td>...</td>\n",
       "    </tr>\n",
       "    <tr>\n",
       "      <th>2303108</th>\n",
       "      <td>345016</td>\n",
       "      <td>&lt;NA&gt;</td>\n",
       "      <td>0.0</td>\n",
       "    </tr>\n",
       "    <tr>\n",
       "      <th>2303109</th>\n",
       "      <td>345018</td>\n",
       "      <td>&lt;NA&gt;</td>\n",
       "      <td>0.0</td>\n",
       "    </tr>\n",
       "    <tr>\n",
       "      <th>2303110</th>\n",
       "      <td>345020</td>\n",
       "      <td>&lt;NA&gt;</td>\n",
       "      <td>0.0</td>\n",
       "    </tr>\n",
       "    <tr>\n",
       "      <th>2303111</th>\n",
       "      <td>345052</td>\n",
       "      <td>&lt;NA&gt;</td>\n",
       "      <td>0.0</td>\n",
       "    </tr>\n",
       "    <tr>\n",
       "      <th>2303112</th>\n",
       "      <td>345061</td>\n",
       "      <td>&lt;NA&gt;</td>\n",
       "      <td>0.0</td>\n",
       "    </tr>\n",
       "  </tbody>\n",
       "</table>\n",
       "<p>2303113 rows × 3 columns</p>\n",
       "</div>"
      ],
      "text/plain": [
       "         scafid  target_id  pscore\n",
       "0          1423        249     3.0\n",
       "1          1423        248     3.0\n",
       "2          1423        461     3.0\n",
       "3          1423         31     3.0\n",
       "4          1423        294     3.0\n",
       "...         ...        ...     ...\n",
       "2303108  345016       <NA>     0.0\n",
       "2303109  345018       <NA>     0.0\n",
       "2303110  345020       <NA>     0.0\n",
       "2303111  345052       <NA>     0.0\n",
       "2303112  345061       <NA>     0.0\n",
       "\n",
       "[2303113 rows x 3 columns]"
      ]
     },
     "execution_count": 90,
     "metadata": {},
     "output_type": "execute_result"
    }
   ],
   "source": [
    "merged_df"
   ]
  },
  {
   "cell_type": "markdown",
   "metadata": {},
   "source": [
    "# Make Plots"
   ]
  },
  {
   "cell_type": "markdown",
   "metadata": {},
   "source": [
    "1. Group scaffolds by pScore into low, moderate, high categories\n",
    "2. For each category (low, moderate, high) plot:\n",
    "    - Number of unique protein targets per scaffold\n",
    "    - Number of unique protein families per scaffold"
   ]
  },
  {
   "cell_type": "code",
   "execution_count": 91,
   "metadata": {},
   "outputs": [],
   "source": [
    "PSCORE_CATEGORIES = ['Low pScore', 'Moderate pScore', 'High pScore']\n",
    "PSCORE_COLORS = [\"green\", \"yellow\", \"red\"]"
   ]
  },
  {
   "cell_type": "code",
   "execution_count": 92,
   "metadata": {},
   "outputs": [],
   "source": [
    "def classify_pScore(pScore):\n",
    "    if pScore < 100:\n",
    "        return PSCORE_CATEGORIES[0]\n",
    "    elif pScore < 300:\n",
    "        return PSCORE_CATEGORIES[1]\n",
    "    else:\n",
    "        return PSCORE_CATEGORIES[2]"
   ]
  },
  {
   "cell_type": "code",
   "execution_count": 118,
   "metadata": {},
   "outputs": [],
   "source": [
    "def create_histogram_plots(stats_df: pd.DataFrame, bins: np.ndarray, x_col: str, xlabel: str, \n",
    "                           xlim: tuple, ylim: tuple, colors: list[str] = PSCORE_COLORS,\n",
    "                           category_col: str = \"pScore_category\", categories: list[str] = PSCORE_CATEGORIES, n_rows: int =1,\n",
    "                           save_fname: str = None):\n",
    "    n_cols = len(categories) // n_rows\n",
    "    fig, axes = plt.subplots(nrows=n_rows, ncols=n_cols, sharey=True, figsize=(15, 5))\n",
    "    axes = axes.flatten()\n",
    "    for i, category in enumerate(categories):\n",
    "        ax = axes[i]\n",
    "        subset = stats_df[stats_df[category_col] == category]\n",
    "        sns.histplot(subset[x_col], ax=axes[i], bins=bins, kde=False, color=colors[i], stat=\"percent\")\n",
    "        ax.set_title(f\"{category}\\nN={len(subset)}\")\n",
    "        ax.set_xlabel(xlabel)\n",
    "        ax.set_xlim(xlim)\n",
    "        ax.set_ylabel(\"Relative Frequency (%)\")\n",
    "\n",
    "\n",
    "    plt.gca().yaxis.set_major_formatter(PercentFormatter(xmax=100, decimals=0))\n",
    "    plt.ylim(ylim)\n",
    "    plt.tight_layout()\n",
    "    if save_fname is not None:\n",
    "        plt.savefig(save_fname, dpi=300)\n",
    "    plt.show()"
   ]
  },
  {
   "cell_type": "code",
   "execution_count": 94,
   "metadata": {},
   "outputs": [],
   "source": [
    "def create_boxplots(stats_df: pd.DataFrame, x_col: str, y_col: str, hue_col: str, yscale: str, ylabel: str, title: str,\n",
    "                    whiskers: tuple = (0,100), pallette=PSCORE_COLORS, xlabel: str = \"\",\n",
    "                    linthresh = None, ylim: tuple = None, save_fname: str = None):\n",
    "    plt.figure(figsize=(8, 6))\n",
    "    sns.boxplot(data=stats_df, x=x_col, y=y_col, hue=hue_col, palette=pallette, whis=whiskers)\n",
    "    plt.yscale(yscale)\n",
    "    if linthresh is not None:\n",
    "        plt.yscale(yscale, linthresh=linthresh)\n",
    "    if ylim is not None:\n",
    "        plt.ylim(ylim)\n",
    "    plt.xlabel(xlabel)\n",
    "    plt.ylabel(ylabel)\n",
    "    plt.title(title)\n",
    "    plt.tight_layout()\n",
    "    if save_fname is not None:\n",
    "        plt.savefig(save_fname, dpi=300)\n",
    "    plt.show()"
   ]
  },
  {
   "cell_type": "code",
   "execution_count": 95,
   "metadata": {},
   "outputs": [],
   "source": [
    "# for float vals\n",
    "nan_set = set([np.nan])\n",
    "# for int vals\n",
    "null_val_set = set([pd.NA])"
   ]
  },
  {
   "cell_type": "markdown",
   "metadata": {},
   "source": [
    "## Plot Unique Targets"
   ]
  },
  {
   "cell_type": "code",
   "execution_count": 96,
   "metadata": {},
   "outputs": [],
   "source": [
    "scaf_stats = merged_df.groupby(\"scafid\").agg(\n",
    "    unique_targets=(\"target_id\", lambda x: len(set(x) - null_val_set)),\n",
    "    pscore=(\"pscore\", \"first\")\n",
    ").reset_index()"
   ]
  },
  {
   "cell_type": "code",
   "execution_count": 97,
   "metadata": {},
   "outputs": [],
   "source": [
    "scaf_stats[\"pScore_category\"] = scaf_stats[\"pscore\"].apply(classify_pScore)"
   ]
  },
  {
   "cell_type": "code",
   "execution_count": 98,
   "metadata": {},
   "outputs": [
    {
     "data": {
      "text/html": [
       "<div>\n",
       "<style scoped>\n",
       "    .dataframe tbody tr th:only-of-type {\n",
       "        vertical-align: middle;\n",
       "    }\n",
       "\n",
       "    .dataframe tbody tr th {\n",
       "        vertical-align: top;\n",
       "    }\n",
       "\n",
       "    .dataframe thead th {\n",
       "        text-align: right;\n",
       "    }\n",
       "</style>\n",
       "<table border=\"1\" class=\"dataframe\">\n",
       "  <thead>\n",
       "    <tr style=\"text-align: right;\">\n",
       "      <th></th>\n",
       "      <th>scafid</th>\n",
       "      <th>unique_targets</th>\n",
       "      <th>pscore</th>\n",
       "      <th>pScore_category</th>\n",
       "    </tr>\n",
       "  </thead>\n",
       "  <tbody>\n",
       "    <tr>\n",
       "      <th>0</th>\n",
       "      <td>0</td>\n",
       "      <td>8</td>\n",
       "      <td>1.0</td>\n",
       "      <td>Low pScore</td>\n",
       "    </tr>\n",
       "    <tr>\n",
       "      <th>1</th>\n",
       "      <td>1</td>\n",
       "      <td>136</td>\n",
       "      <td>23.0</td>\n",
       "      <td>Low pScore</td>\n",
       "    </tr>\n",
       "    <tr>\n",
       "      <th>2</th>\n",
       "      <td>2</td>\n",
       "      <td>549</td>\n",
       "      <td>84.0</td>\n",
       "      <td>Low pScore</td>\n",
       "    </tr>\n",
       "    <tr>\n",
       "      <th>3</th>\n",
       "      <td>3</td>\n",
       "      <td>540</td>\n",
       "      <td>190.0</td>\n",
       "      <td>Moderate pScore</td>\n",
       "    </tr>\n",
       "    <tr>\n",
       "      <th>4</th>\n",
       "      <td>4</td>\n",
       "      <td>8</td>\n",
       "      <td>0.0</td>\n",
       "      <td>Low pScore</td>\n",
       "    </tr>\n",
       "    <tr>\n",
       "      <th>...</th>\n",
       "      <td>...</td>\n",
       "      <td>...</td>\n",
       "      <td>...</td>\n",
       "      <td>...</td>\n",
       "    </tr>\n",
       "    <tr>\n",
       "      <th>469194</th>\n",
       "      <td>469197</td>\n",
       "      <td>0</td>\n",
       "      <td>0.0</td>\n",
       "      <td>Low pScore</td>\n",
       "    </tr>\n",
       "    <tr>\n",
       "      <th>469195</th>\n",
       "      <td>469198</td>\n",
       "      <td>0</td>\n",
       "      <td>0.0</td>\n",
       "      <td>Low pScore</td>\n",
       "    </tr>\n",
       "    <tr>\n",
       "      <th>469196</th>\n",
       "      <td>469199</td>\n",
       "      <td>0</td>\n",
       "      <td>0.0</td>\n",
       "      <td>Low pScore</td>\n",
       "    </tr>\n",
       "    <tr>\n",
       "      <th>469197</th>\n",
       "      <td>469200</td>\n",
       "      <td>0</td>\n",
       "      <td>0.0</td>\n",
       "      <td>Low pScore</td>\n",
       "    </tr>\n",
       "    <tr>\n",
       "      <th>469198</th>\n",
       "      <td>469201</td>\n",
       "      <td>0</td>\n",
       "      <td>0.0</td>\n",
       "      <td>Low pScore</td>\n",
       "    </tr>\n",
       "  </tbody>\n",
       "</table>\n",
       "<p>469199 rows × 4 columns</p>\n",
       "</div>"
      ],
      "text/plain": [
       "        scafid  unique_targets  pscore  pScore_category\n",
       "0            0               8     1.0       Low pScore\n",
       "1            1             136    23.0       Low pScore\n",
       "2            2             549    84.0       Low pScore\n",
       "3            3             540   190.0  Moderate pScore\n",
       "4            4               8     0.0       Low pScore\n",
       "...        ...             ...     ...              ...\n",
       "469194  469197               0     0.0       Low pScore\n",
       "469195  469198               0     0.0       Low pScore\n",
       "469196  469199               0     0.0       Low pScore\n",
       "469197  469200               0     0.0       Low pScore\n",
       "469198  469201               0     0.0       Low pScore\n",
       "\n",
       "[469199 rows x 4 columns]"
      ]
     },
     "execution_count": 98,
     "metadata": {},
     "output_type": "execute_result"
    }
   ],
   "source": [
    "scaf_stats"
   ]
  },
  {
   "cell_type": "code",
   "execution_count": 119,
   "metadata": {},
   "outputs": [
    {
     "data": {
      "image/png": "[encoded data removed]",
      "text/plain": [
       "<Figure size 1500x500 with 3 Axes>"
      ]
     },
     "metadata": {},
     "output_type": "display_data"
    }
   ],
   "source": [
    "bins = np.arange(0, len(protein_target_df) + 25, 25)\n",
    "x_col = \"unique_targets\"\n",
    "xlabel = \"Number of Unique Protein Targets\"\n",
    "xlim = (0, len(protein_target_df))\n",
    "ylim = (0, 100)\n",
    "create_histogram_plots(scaf_stats, bins, x_col, xlabel, xlim, ylim, save_fname=\"unique_targets_hist.png\")"
   ]
  },
  {
   "cell_type": "code",
   "execution_count": 123,
   "metadata": {},
   "outputs": [
    {
     "data": {
      "image/png": "[encoded data removed]",
      "text/plain": [
       "<Figure size 800x600 with 1 Axes>"
      ]
     },
     "metadata": {},
     "output_type": "display_data"
    }
   ],
   "source": [
    "create_boxplots(scaf_stats, \"pScore_category\", \"unique_targets\", \"pScore_category\", \n",
    "                \"symlog\", \"Number of Unique Protein Targets\", \n",
    "                \"Distribution of Unique Protein Targets per Scaffold by pScore Advisory\",\n",
    "                linthresh=None, ylim=(0, len(protein_target_df) + 10), save_fname=\"unique_targets_boxplot.png\")"
   ]
  },
  {
   "cell_type": "markdown",
   "metadata": {},
   "source": [
    "## Plot Unique Protein Families"
   ]
  },
  {
   "cell_type": "code",
   "execution_count": 101,
   "metadata": {},
   "outputs": [
    {
     "name": "stdout",
     "output_type": "stream",
     "text": [
      "     target_id protein_family\n",
      "121        307             TF\n",
      "176        454             TF\n",
      "222        307     Epigenetic\n",
      "223        454     Epigenetic\n"
     ]
    }
   ],
   "source": [
    "protein_family_df = protein_target_df.dropna(subset=[\"protein_family\"])[[\"target_id\", \"protein_family\"]]\n",
    "\n",
    "# handle special case where N=2 proteins classified as both TF and Epigenetic \n",
    "idx = protein_family_df[\"protein_family\"] == \"TF; Epigenetic\"\n",
    "target_ids = protein_family_df.loc[idx, \"target_id\"]\n",
    "# reset to TF\n",
    "protein_family_df.loc[idx, \"protein_family\"] = \"TF\"\n",
    "# add entry for Epigenetic\n",
    "new_rows = [\n",
    "    {'target_id': target_ids.iloc[0], 'protein_family': \"Epigenetic\"},\n",
    "    {'target_id': target_ids.iloc[1], 'protein_family': \"Epigenetic\"}\n",
    "]\n",
    "df_app = pd.DataFrame(new_rows, columns=protein_family_df.columns)\n",
    "protein_family_df = pd.concat([protein_family_df, df_app], ignore_index=True)\n",
    "print(protein_family_df[protein_family_df[\"target_id\"].isin(target_ids)])"
   ]
  },
  {
   "cell_type": "code",
   "execution_count": 102,
   "metadata": {},
   "outputs": [
    {
     "data": {
      "text/html": [
       "<div>\n",
       "<style scoped>\n",
       "    .dataframe tbody tr th:only-of-type {\n",
       "        vertical-align: middle;\n",
       "    }\n",
       "\n",
       "    .dataframe tbody tr th {\n",
       "        vertical-align: top;\n",
       "    }\n",
       "\n",
       "    .dataframe thead th {\n",
       "        text-align: right;\n",
       "    }\n",
       "</style>\n",
       "<table border=\"1\" class=\"dataframe\">\n",
       "  <thead>\n",
       "    <tr style=\"text-align: right;\">\n",
       "      <th></th>\n",
       "      <th>target_id</th>\n",
       "      <th>protein_family</th>\n",
       "    </tr>\n",
       "  </thead>\n",
       "  <tbody>\n",
       "    <tr>\n",
       "      <th>0</th>\n",
       "      <td>3</td>\n",
       "      <td>Enzyme</td>\n",
       "    </tr>\n",
       "    <tr>\n",
       "      <th>1</th>\n",
       "      <td>4</td>\n",
       "      <td>GPCR</td>\n",
       "    </tr>\n",
       "    <tr>\n",
       "      <th>2</th>\n",
       "      <td>5</td>\n",
       "      <td>Enzyme</td>\n",
       "    </tr>\n",
       "    <tr>\n",
       "      <th>3</th>\n",
       "      <td>12</td>\n",
       "      <td>Enzyme</td>\n",
       "    </tr>\n",
       "    <tr>\n",
       "      <th>4</th>\n",
       "      <td>13</td>\n",
       "      <td>GPCR</td>\n",
       "    </tr>\n",
       "    <tr>\n",
       "      <th>...</th>\n",
       "      <td>...</td>\n",
       "      <td>...</td>\n",
       "    </tr>\n",
       "    <tr>\n",
       "      <th>219</th>\n",
       "      <td>594</td>\n",
       "      <td>Enzyme</td>\n",
       "    </tr>\n",
       "    <tr>\n",
       "      <th>220</th>\n",
       "      <td>595</td>\n",
       "      <td>Enzyme</td>\n",
       "    </tr>\n",
       "    <tr>\n",
       "      <th>221</th>\n",
       "      <td>596</td>\n",
       "      <td>Enzyme</td>\n",
       "    </tr>\n",
       "    <tr>\n",
       "      <th>222</th>\n",
       "      <td>307</td>\n",
       "      <td>Epigenetic</td>\n",
       "    </tr>\n",
       "    <tr>\n",
       "      <th>223</th>\n",
       "      <td>454</td>\n",
       "      <td>Epigenetic</td>\n",
       "    </tr>\n",
       "  </tbody>\n",
       "</table>\n",
       "<p>224 rows × 2 columns</p>\n",
       "</div>"
      ],
      "text/plain": [
       "     target_id protein_family\n",
       "0            3         Enzyme\n",
       "1            4           GPCR\n",
       "2            5         Enzyme\n",
       "3           12         Enzyme\n",
       "4           13           GPCR\n",
       "..         ...            ...\n",
       "219        594         Enzyme\n",
       "220        595         Enzyme\n",
       "221        596         Enzyme\n",
       "222        307     Epigenetic\n",
       "223        454     Epigenetic\n",
       "\n",
       "[224 rows x 2 columns]"
      ]
     },
     "execution_count": 102,
     "metadata": {},
     "output_type": "execute_result"
    }
   ],
   "source": [
    "protein_family_df"
   ]
  },
  {
   "cell_type": "code",
   "execution_count": 103,
   "metadata": {},
   "outputs": [],
   "source": [
    "scaf2fam_df = pd.merge(merged_df, protein_family_df, how=\"left\", on=\"target_id\")"
   ]
  },
  {
   "cell_type": "code",
   "execution_count": 104,
   "metadata": {},
   "outputs": [
    {
     "data": {
      "text/html": [
       "<div>\n",
       "<style scoped>\n",
       "    .dataframe tbody tr th:only-of-type {\n",
       "        vertical-align: middle;\n",
       "    }\n",
       "\n",
       "    .dataframe tbody tr th {\n",
       "        vertical-align: top;\n",
       "    }\n",
       "\n",
       "    .dataframe thead th {\n",
       "        text-align: right;\n",
       "    }\n",
       "</style>\n",
       "<table border=\"1\" class=\"dataframe\">\n",
       "  <thead>\n",
       "    <tr style=\"text-align: right;\">\n",
       "      <th></th>\n",
       "      <th>scafid</th>\n",
       "      <th>target_id</th>\n",
       "      <th>pscore</th>\n",
       "      <th>protein_family</th>\n",
       "    </tr>\n",
       "  </thead>\n",
       "  <tbody>\n",
       "    <tr>\n",
       "      <th>0</th>\n",
       "      <td>1423</td>\n",
       "      <td>249</td>\n",
       "      <td>3.0</td>\n",
       "      <td>NaN</td>\n",
       "    </tr>\n",
       "    <tr>\n",
       "      <th>1</th>\n",
       "      <td>1423</td>\n",
       "      <td>248</td>\n",
       "      <td>3.0</td>\n",
       "      <td>NaN</td>\n",
       "    </tr>\n",
       "    <tr>\n",
       "      <th>2</th>\n",
       "      <td>1423</td>\n",
       "      <td>461</td>\n",
       "      <td>3.0</td>\n",
       "      <td>NaN</td>\n",
       "    </tr>\n",
       "    <tr>\n",
       "      <th>3</th>\n",
       "      <td>1423</td>\n",
       "      <td>31</td>\n",
       "      <td>3.0</td>\n",
       "      <td>NR</td>\n",
       "    </tr>\n",
       "    <tr>\n",
       "      <th>4</th>\n",
       "      <td>1423</td>\n",
       "      <td>294</td>\n",
       "      <td>3.0</td>\n",
       "      <td>NaN</td>\n",
       "    </tr>\n",
       "    <tr>\n",
       "      <th>...</th>\n",
       "      <td>...</td>\n",
       "      <td>...</td>\n",
       "      <td>...</td>\n",
       "      <td>...</td>\n",
       "    </tr>\n",
       "    <tr>\n",
       "      <th>2308211</th>\n",
       "      <td>345016</td>\n",
       "      <td>&lt;NA&gt;</td>\n",
       "      <td>0.0</td>\n",
       "      <td>NaN</td>\n",
       "    </tr>\n",
       "    <tr>\n",
       "      <th>2308212</th>\n",
       "      <td>345018</td>\n",
       "      <td>&lt;NA&gt;</td>\n",
       "      <td>0.0</td>\n",
       "      <td>NaN</td>\n",
       "    </tr>\n",
       "    <tr>\n",
       "      <th>2308213</th>\n",
       "      <td>345020</td>\n",
       "      <td>&lt;NA&gt;</td>\n",
       "      <td>0.0</td>\n",
       "      <td>NaN</td>\n",
       "    </tr>\n",
       "    <tr>\n",
       "      <th>2308214</th>\n",
       "      <td>345052</td>\n",
       "      <td>&lt;NA&gt;</td>\n",
       "      <td>0.0</td>\n",
       "      <td>NaN</td>\n",
       "    </tr>\n",
       "    <tr>\n",
       "      <th>2308215</th>\n",
       "      <td>345061</td>\n",
       "      <td>&lt;NA&gt;</td>\n",
       "      <td>0.0</td>\n",
       "      <td>NaN</td>\n",
       "    </tr>\n",
       "  </tbody>\n",
       "</table>\n",
       "<p>2308216 rows × 4 columns</p>\n",
       "</div>"
      ],
      "text/plain": [
       "         scafid  target_id  pscore protein_family\n",
       "0          1423        249     3.0            NaN\n",
       "1          1423        248     3.0            NaN\n",
       "2          1423        461     3.0            NaN\n",
       "3          1423         31     3.0             NR\n",
       "4          1423        294     3.0            NaN\n",
       "...         ...        ...     ...            ...\n",
       "2308211  345016       <NA>     0.0            NaN\n",
       "2308212  345018       <NA>     0.0            NaN\n",
       "2308213  345020       <NA>     0.0            NaN\n",
       "2308214  345052       <NA>     0.0            NaN\n",
       "2308215  345061       <NA>     0.0            NaN\n",
       "\n",
       "[2308216 rows x 4 columns]"
      ]
     },
     "execution_count": 104,
     "metadata": {},
     "output_type": "execute_result"
    }
   ],
   "source": [
    "scaf2fam_df"
   ]
  },
  {
   "cell_type": "code",
   "execution_count": 105,
   "metadata": {},
   "outputs": [],
   "source": [
    "scaf_family_stats = scaf2fam_df.groupby(\"scafid\").agg(\n",
    "    unique_protein_families=(\"protein_family\", lambda x: len(set(x) - nan_set)),\n",
    "    pscore=(\"pscore\", \"first\")\n",
    ").reset_index()"
   ]
  },
  {
   "cell_type": "code",
   "execution_count": 106,
   "metadata": {},
   "outputs": [],
   "source": [
    "scaf_family_stats[\"pScore_category\"] = scaf_family_stats[\"pscore\"].apply(classify_pScore)"
   ]
  },
  {
   "cell_type": "code",
   "execution_count": 107,
   "metadata": {},
   "outputs": [
    {
     "data": {
      "text/html": [
       "<div>\n",
       "<style scoped>\n",
       "    .dataframe tbody tr th:only-of-type {\n",
       "        vertical-align: middle;\n",
       "    }\n",
       "\n",
       "    .dataframe tbody tr th {\n",
       "        vertical-align: top;\n",
       "    }\n",
       "\n",
       "    .dataframe thead th {\n",
       "        text-align: right;\n",
       "    }\n",
       "</style>\n",
       "<table border=\"1\" class=\"dataframe\">\n",
       "  <thead>\n",
       "    <tr style=\"text-align: right;\">\n",
       "      <th></th>\n",
       "      <th>scafid</th>\n",
       "      <th>unique_protein_families</th>\n",
       "      <th>pscore</th>\n",
       "      <th>pScore_category</th>\n",
       "    </tr>\n",
       "  </thead>\n",
       "  <tbody>\n",
       "    <tr>\n",
       "      <th>0</th>\n",
       "      <td>0</td>\n",
       "      <td>0</td>\n",
       "      <td>1.0</td>\n",
       "      <td>Low pScore</td>\n",
       "    </tr>\n",
       "    <tr>\n",
       "      <th>1</th>\n",
       "      <td>1</td>\n",
       "      <td>8</td>\n",
       "      <td>23.0</td>\n",
       "      <td>Low pScore</td>\n",
       "    </tr>\n",
       "    <tr>\n",
       "      <th>2</th>\n",
       "      <td>2</td>\n",
       "      <td>8</td>\n",
       "      <td>84.0</td>\n",
       "      <td>Low pScore</td>\n",
       "    </tr>\n",
       "    <tr>\n",
       "      <th>3</th>\n",
       "      <td>3</td>\n",
       "      <td>8</td>\n",
       "      <td>190.0</td>\n",
       "      <td>Moderate pScore</td>\n",
       "    </tr>\n",
       "    <tr>\n",
       "      <th>4</th>\n",
       "      <td>4</td>\n",
       "      <td>0</td>\n",
       "      <td>0.0</td>\n",
       "      <td>Low pScore</td>\n",
       "    </tr>\n",
       "    <tr>\n",
       "      <th>...</th>\n",
       "      <td>...</td>\n",
       "      <td>...</td>\n",
       "      <td>...</td>\n",
       "      <td>...</td>\n",
       "    </tr>\n",
       "    <tr>\n",
       "      <th>469194</th>\n",
       "      <td>469197</td>\n",
       "      <td>0</td>\n",
       "      <td>0.0</td>\n",
       "      <td>Low pScore</td>\n",
       "    </tr>\n",
       "    <tr>\n",
       "      <th>469195</th>\n",
       "      <td>469198</td>\n",
       "      <td>0</td>\n",
       "      <td>0.0</td>\n",
       "      <td>Low pScore</td>\n",
       "    </tr>\n",
       "    <tr>\n",
       "      <th>469196</th>\n",
       "      <td>469199</td>\n",
       "      <td>0</td>\n",
       "      <td>0.0</td>\n",
       "      <td>Low pScore</td>\n",
       "    </tr>\n",
       "    <tr>\n",
       "      <th>469197</th>\n",
       "      <td>469200</td>\n",
       "      <td>0</td>\n",
       "      <td>0.0</td>\n",
       "      <td>Low pScore</td>\n",
       "    </tr>\n",
       "    <tr>\n",
       "      <th>469198</th>\n",
       "      <td>469201</td>\n",
       "      <td>0</td>\n",
       "      <td>0.0</td>\n",
       "      <td>Low pScore</td>\n",
       "    </tr>\n",
       "  </tbody>\n",
       "</table>\n",
       "<p>469199 rows × 4 columns</p>\n",
       "</div>"
      ],
      "text/plain": [
       "        scafid  unique_protein_families  pscore  pScore_category\n",
       "0            0                        0     1.0       Low pScore\n",
       "1            1                        8    23.0       Low pScore\n",
       "2            2                        8    84.0       Low pScore\n",
       "3            3                        8   190.0  Moderate pScore\n",
       "4            4                        0     0.0       Low pScore\n",
       "...        ...                      ...     ...              ...\n",
       "469194  469197                        0     0.0       Low pScore\n",
       "469195  469198                        0     0.0       Low pScore\n",
       "469196  469199                        0     0.0       Low pScore\n",
       "469197  469200                        0     0.0       Low pScore\n",
       "469198  469201                        0     0.0       Low pScore\n",
       "\n",
       "[469199 rows x 4 columns]"
      ]
     },
     "execution_count": 107,
     "metadata": {},
     "output_type": "execute_result"
    }
   ],
   "source": [
    "scaf_family_stats"
   ]
  },
  {
   "cell_type": "code",
   "execution_count": 108,
   "metadata": {},
   "outputs": [
    {
     "data": {
      "text/plain": [
       "{'Enzyme', 'Epigenetic', 'GPCR', 'IC', 'Kinase', 'NR', 'TF', 'Transporter'}"
      ]
     },
     "execution_count": 108,
     "metadata": {},
     "output_type": "execute_result"
    }
   ],
   "source": [
    "family_set = set(protein_family_df[\"protein_family\"])\n",
    "total_n_families = len(family_set)\n",
    "family_set "
   ]
  },
  {
   "cell_type": "code",
   "execution_count": 109,
   "metadata": {},
   "outputs": [
    {
     "data": {
      "image/png": "[encoded data removed]",
      "text/plain": [
       "<Figure size 1500x500 with 3 Axes>"
      ]
     },
     "metadata": {},
     "output_type": "display_data"
    }
   ],
   "source": [
    "bins = np.arange(0, 11, 1)\n",
    "x_col = \"unique_protein_families\"\n",
    "xlabel = \"Number of Unique Protein Families\"\n",
    "xlim = (0, total_n_families + 1)\n",
    "ylim = (0, 80)\n",
    "create_histogram_plots(scaf_family_stats, bins, x_col, xlabel, xlim, ylim, save_fname=\"n_families_hist.png\")"
   ]
  },
  {
   "cell_type": "code",
   "execution_count": 124,
   "metadata": {},
   "outputs": [
    {
     "data": {
      "image/png": "[encoded data removed]",
      "text/plain": [
       "<Figure size 800x600 with 1 Axes>"
      ]
     },
     "metadata": {},
     "output_type": "display_data"
    }
   ],
   "source": [
    "create_boxplots(scaf_family_stats, \"pScore_category\", \"unique_protein_families\", \"pScore_category\", \n",
    "                \"linear\", \"Number of Unique Protein Families\", \n",
    "                \"Distribution of Unique Protein Families per Scaffold by pScore Advisory\", save_fname=\"n_families_boxplot.png\")"
   ]
  },
  {
   "cell_type": "markdown",
   "metadata": {},
   "source": [
    "## Plot pScore Distribution by Target Family"
   ]
  },
  {
   "cell_type": "code",
   "execution_count": 111,
   "metadata": {},
   "outputs": [],
   "source": [
    "scaf2fam_nonan_df = scaf2fam_df.dropna(subset=\"protein_family\")"
   ]
  },
  {
   "cell_type": "code",
   "execution_count": 112,
   "metadata": {},
   "outputs": [
    {
     "data": {
      "text/html": [
       "<div>\n",
       "<style scoped>\n",
       "    .dataframe tbody tr th:only-of-type {\n",
       "        vertical-align: middle;\n",
       "    }\n",
       "\n",
       "    .dataframe tbody tr th {\n",
       "        vertical-align: top;\n",
       "    }\n",
       "\n",
       "    .dataframe thead th {\n",
       "        text-align: right;\n",
       "    }\n",
       "</style>\n",
       "<table border=\"1\" class=\"dataframe\">\n",
       "  <thead>\n",
       "    <tr style=\"text-align: right;\">\n",
       "      <th></th>\n",
       "      <th>scafid</th>\n",
       "      <th>target_id</th>\n",
       "      <th>pscore</th>\n",
       "      <th>protein_family</th>\n",
       "    </tr>\n",
       "  </thead>\n",
       "  <tbody>\n",
       "    <tr>\n",
       "      <th>607207</th>\n",
       "      <td>32079</td>\n",
       "      <td>116</td>\n",
       "      <td>86.0</td>\n",
       "      <td>Enzyme</td>\n",
       "    </tr>\n",
       "    <tr>\n",
       "      <th>707075</th>\n",
       "      <td>129113</td>\n",
       "      <td>408</td>\n",
       "      <td>100.0</td>\n",
       "      <td>Enzyme</td>\n",
       "    </tr>\n",
       "    <tr>\n",
       "      <th>1676628</th>\n",
       "      <td>23</td>\n",
       "      <td>287</td>\n",
       "      <td>107.0</td>\n",
       "      <td>Enzyme</td>\n",
       "    </tr>\n",
       "    <tr>\n",
       "      <th>707060</th>\n",
       "      <td>129113</td>\n",
       "      <td>407</td>\n",
       "      <td>100.0</td>\n",
       "      <td>Enzyme</td>\n",
       "    </tr>\n",
       "    <tr>\n",
       "      <th>707059</th>\n",
       "      <td>129113</td>\n",
       "      <td>463</td>\n",
       "      <td>100.0</td>\n",
       "      <td>Enzyme</td>\n",
       "    </tr>\n",
       "    <tr>\n",
       "      <th>...</th>\n",
       "      <td>...</td>\n",
       "      <td>...</td>\n",
       "      <td>...</td>\n",
       "      <td>...</td>\n",
       "    </tr>\n",
       "    <tr>\n",
       "      <th>724765</th>\n",
       "      <td>23708</td>\n",
       "      <td>320</td>\n",
       "      <td>1.0</td>\n",
       "      <td>Transporter</td>\n",
       "    </tr>\n",
       "    <tr>\n",
       "      <th>1544073</th>\n",
       "      <td>3</td>\n",
       "      <td>79</td>\n",
       "      <td>190.0</td>\n",
       "      <td>Transporter</td>\n",
       "    </tr>\n",
       "    <tr>\n",
       "      <th>879608</th>\n",
       "      <td>3891</td>\n",
       "      <td>320</td>\n",
       "      <td>15.0</td>\n",
       "      <td>Transporter</td>\n",
       "    </tr>\n",
       "    <tr>\n",
       "      <th>437180</th>\n",
       "      <td>90025</td>\n",
       "      <td>79</td>\n",
       "      <td>8.0</td>\n",
       "      <td>Transporter</td>\n",
       "    </tr>\n",
       "    <tr>\n",
       "      <th>992756</th>\n",
       "      <td>33431</td>\n",
       "      <td>320</td>\n",
       "      <td>0.0</td>\n",
       "      <td>Transporter</td>\n",
       "    </tr>\n",
       "  </tbody>\n",
       "</table>\n",
       "<p>742218 rows × 4 columns</p>\n",
       "</div>"
      ],
      "text/plain": [
       "         scafid  target_id  pscore protein_family\n",
       "607207    32079        116    86.0         Enzyme\n",
       "707075   129113        408   100.0         Enzyme\n",
       "1676628      23        287   107.0         Enzyme\n",
       "707060   129113        407   100.0         Enzyme\n",
       "707059   129113        463   100.0         Enzyme\n",
       "...         ...        ...     ...            ...\n",
       "724765    23708        320     1.0    Transporter\n",
       "1544073       3         79   190.0    Transporter\n",
       "879608     3891        320    15.0    Transporter\n",
       "437180    90025         79     8.0    Transporter\n",
       "992756    33431        320     0.0    Transporter\n",
       "\n",
       "[742218 rows x 4 columns]"
      ]
     },
     "execution_count": 112,
     "metadata": {},
     "output_type": "execute_result"
    }
   ],
   "source": [
    "scaf2fam_nonan_df = scaf2fam_nonan_df.sort_values(by=\"protein_family\")\n",
    "scaf2fam_nonan_df"
   ]
  },
  {
   "cell_type": "code",
   "execution_count": 113,
   "metadata": {},
   "outputs": [
    {
     "data": {
      "text/plain": [
       "['Enzyme', 'Epigenetic', 'GPCR', 'IC', 'Kinase', 'NR', 'TF', 'Transporter']"
      ]
     },
     "execution_count": 113,
     "metadata": {},
     "output_type": "execute_result"
    }
   ],
   "source": [
    "fam_categories = sorted(list(family_set))\n",
    "fam_categories"
   ]
  },
  {
   "cell_type": "code",
   "execution_count": 114,
   "metadata": {},
   "outputs": [],
   "source": [
    "n_colors = 8\n",
    "color_i = np.linspace(0, 1, n_colors)\n",
    "cmap = plt.get_cmap(\"Set2\")\n",
    "fam_colors = [cmap(i) for i in color_i]"
   ]
  },
  {
   "cell_type": "code",
   "execution_count": 120,
   "metadata": {},
   "outputs": [
    {
     "data": {
      "image/png": "[encoded data removed]",
      "text/plain": [
       "<Figure size 1500x500 with 8 Axes>"
      ]
     },
     "metadata": {},
     "output_type": "display_data"
    }
   ],
   "source": [
    "max_pscore = scaf2fam_df[\"pscore\"].max()\n",
    "bins = np.arange(0,  max_pscore + 25, 25)\n",
    "x_col = \"pscore\"\n",
    "xlabel = \"pScore\"\n",
    "xlim = (0, 500 + 1)\n",
    "ylim = (0, 70)\n",
    "create_histogram_plots(scaf2fam_nonan_df, bins, x_col, xlabel, xlim, ylim, \n",
    "                       colors=fam_colors, category_col=\"protein_family\", \n",
    "                       categories=fam_categories, n_rows=2, save_fname=\"pscores_by_family_hist.png\")"
   ]
  },
  {
   "cell_type": "code",
   "execution_count": 121,
   "metadata": {},
   "outputs": [
    {
     "data": {
      "image/png": "[encoded data removed]",
      "text/plain": [
       "<Figure size 800x600 with 1 Axes>"
      ]
     },
     "metadata": {},
     "output_type": "display_data"
    }
   ],
   "source": [
    "x_col = \"protein_family\"\n",
    "hue = x_col\n",
    "y_col = \"pscore\"\n",
    "create_boxplots(scaf2fam_nonan_df, x_col, y_col, x_col, \"symlog\", \"pScore\", \"pScore Distribution by Protein Family\", \n",
    "                pallette=fam_colors, whiskers=(0.1, 99.9), ylim=(-0.1, max_pscore * 2), save_fname=\"pscores_by_family_boxplot.png\")"
   ]
  },
  {
   "cell_type": "markdown",
   "metadata": {},
   "source": [
    "# Close DB Connection"
   ]
  },
  {
   "cell_type": "code",
   "execution_count": 122,
   "metadata": {},
   "outputs": [],
   "source": [
    "# Close the cursors\n",
    "db_cur.close()\n",
    "\n",
    "# Close the connections\n",
    "db_connection.close()"
   ]
  }
 ],
 "metadata": {
  "kernelspec": {
   "display_name": "badapple2",
   "language": "python",
   "name": "python3"
  },
  "language_info": {
   "codemirror_mode": {
    "name": "ipython",
    "version": 3
   },
   "file_extension": ".py",
   "mimetype": "text/x-python",
   "name": "python",
   "nbconvert_exporter": "python",
   "pygments_lexer": "ipython3",
   "version": "3.12.3"
  }
 },
 "nbformat": 4,
 "nbformat_minor": 2
}
