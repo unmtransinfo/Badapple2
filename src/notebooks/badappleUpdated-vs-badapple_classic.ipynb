{
 "cells": [
  {
   "cell_type": "markdown",
   "metadata": {},
   "source": [
    "# DB Comparison\n",
    "This notebook compares pScores between badapple_classic and the \"badappleUpdated\" database, which contains the same assay records as badapple_classic but has updated information (as of Nov 26, 2024) compared to badapple_classic (whose input data was last updated in 2017). \n",
    "\n",
    "The badappleUpdatedDB is created using the script found in sh_scripts/db/badappleUpdated/create_updated_badapple.sh"
   ]
  },
  {
   "cell_type": "markdown",
   "metadata": {},
   "source": [
    "# Setup"
   ]
  },
  {
   "cell_type": "code",
   "execution_count": null,
   "metadata": {},
   "outputs": [],
   "source": [
    "# define DB variables\n",
    "ORIGINAL_DB_NAME = \"badapple_classic\"\n",
    "ORIGINAL_DB_HOST = \"localhost\"\n",
    "ORIGINAL_DB_USER = \"<your_usr>\"\n",
    "ORIGINAL_DB_PASSWORD = \"<your_pw>\"\n",
    "\n",
    "COMPARISON_DB_NAME = \"badappleupdated\"\n",
    "COMPARISON_DB_HOST = ORIGINAL_DB_HOST\n",
    "COMPARISON_DB_USER = ORIGINAL_DB_USER\n",
    "COMPARISON_DB_PASSWORD = ORIGINAL_DB_PASSWORD"
   ]
  },
  {
   "cell_type": "code",
   "execution_count": 26,
   "metadata": {},
   "outputs": [],
   "source": [
    "# imports\n",
    "import psycopg2\n",
    "import psycopg2.extras\n",
    "from psycopg2 import sql\n",
    "import pandas as pd\n",
    "from scipy.stats import pearsonr\n",
    "import matplotlib.pyplot as plt\n",
    "import numpy as np"
   ]
  },
  {
   "cell_type": "markdown",
   "metadata": {},
   "source": [
    "## Connect to DBs"
   ]
  },
  {
   "cell_type": "code",
   "execution_count": 27,
   "metadata": {},
   "outputs": [],
   "source": [
    "def db_connect(db_name: str, host: str, user: str, password: str):\n",
    "    try:\n",
    "        db_connection = psycopg2.connect(\n",
    "            dbname=db_name,\n",
    "            host=host,\n",
    "            user=user,\n",
    "            password=password,\n",
    "            cursor_factory=psycopg2.extras.DictCursor,\n",
    "        )\n",
    "        db_connection.set_session(readonly=True)\n",
    "        return db_connection\n",
    "    except Exception as e:\n",
    "        print(e)\n",
    "        print(f\"Error connecting to DB: {db_name}\")\n",
    "        return None"
   ]
  },
  {
   "cell_type": "code",
   "execution_count": 28,
   "metadata": {},
   "outputs": [],
   "source": [
    "original_db_connection = db_connect(ORIGINAL_DB_NAME, ORIGINAL_DB_HOST, ORIGINAL_DB_USER, ORIGINAL_DB_PASSWORD)\n",
    "comparison_db_connection = db_connect(COMPARISON_DB_NAME, COMPARISON_DB_HOST, COMPARISON_DB_USER, COMPARISON_DB_PASSWORD)"
   ]
  },
  {
   "cell_type": "code",
   "execution_count": 29,
   "metadata": {},
   "outputs": [],
   "source": [
    "original_db_cur = original_db_connection.cursor()\n",
    "comparison_db_cur = comparison_db_connection.cursor()"
   ]
  },
  {
   "cell_type": "markdown",
   "metadata": {},
   "source": [
    "# pScore Comparison"
   ]
  },
  {
   "cell_type": "code",
   "execution_count": 30,
   "metadata": {},
   "outputs": [],
   "source": [
    "ORIGINAL_PSCORE_COL_NAME = f\"pScore {ORIGINAL_DB_NAME}\"\n",
    "COMPARISON_PSCORE_COL_NAME = f\"pScore {ORIGINAL_DB_NAME} (updated data)\""
   ]
  },
  {
   "cell_type": "code",
   "execution_count": 31,
   "metadata": {},
   "outputs": [],
   "source": [
    "def get_pScores(db_cursor, db_conn):\n",
    "    query = sql.SQL(\"SELECT scafsmi, pScore FROM scaffold order by scafsmi\")\n",
    "    result = []\n",
    "    try:\n",
    "        db_cursor.execute(query)\n",
    "        result = db_cursor.fetchall()\n",
    "        return result\n",
    "    except Exception:\n",
    "        db_conn.rollback()\n",
    "    return result"
   ]
  },
  {
   "cell_type": "code",
   "execution_count": 32,
   "metadata": {},
   "outputs": [],
   "source": [
    "original_pScores = get_pScores(original_db_cur, original_db_connection)\n",
    "comparison_pScores = get_pScores(comparison_db_cur, comparison_db_connection)"
   ]
  },
  {
   "cell_type": "code",
   "execution_count": 33,
   "metadata": {},
   "outputs": [],
   "source": [
    "def get_pScore_df(pScore_list: list[list[str, int]], dropna: bool = True):\n",
    "    df = pd.DataFrame(pScore_list, columns=['scafsmi', 'pScore'])\n",
    "    if dropna:\n",
    "        # some compounds in badapple+badapple_classic have 'None' as pScore (no evidence)\n",
    "        # this is because the compound list was from MLSMR, not from the set of compounds in the assays\n",
    "        # drop these scores as it does not make sense to try and compare these NaN cases\n",
    "        df.dropna(subset=\"pScore\", inplace=True)\n",
    "    return df"
   ]
  },
  {
   "cell_type": "code",
   "execution_count": 34,
   "metadata": {},
   "outputs": [],
   "source": [
    "original_df = get_pScore_df(original_pScores, False)\n",
    "comparison_df = get_pScore_df(comparison_pScores, False)"
   ]
  },
  {
   "cell_type": "code",
   "execution_count": 35,
   "metadata": {},
   "outputs": [],
   "source": [
    "# get df containing shared scaffolds\n",
    "shared_df = pd.merge(original_df, comparison_df, on='scafsmi')\n",
    "shared_df.rename(columns={\"pScore_x\": ORIGINAL_PSCORE_COL_NAME, \"pScore_y\": COMPARISON_PSCORE_COL_NAME}, inplace=True)\n",
    "# doesn't make sense to compare NaN entries\n",
    "shared_df = shared_df[~(shared_df[ORIGINAL_PSCORE_COL_NAME].isna()| shared_df[COMPARISON_PSCORE_COL_NAME].isna())]"
   ]
  },
  {
   "cell_type": "code",
   "execution_count": 36,
   "metadata": {},
   "outputs": [
    {
     "data": {
      "text/html": [
       "<div>\n",
       "<style scoped>\n",
       "    .dataframe tbody tr th:only-of-type {\n",
       "        vertical-align: middle;\n",
       "    }\n",
       "\n",
       "    .dataframe tbody tr th {\n",
       "        vertical-align: top;\n",
       "    }\n",
       "\n",
       "    .dataframe thead th {\n",
       "        text-align: right;\n",
       "    }\n",
       "</style>\n",
       "<table border=\"1\" class=\"dataframe\">\n",
       "  <thead>\n",
       "    <tr style=\"text-align: right;\">\n",
       "      <th></th>\n",
       "      <th>scafsmi</th>\n",
       "      <th>pScore badapple_classic</th>\n",
       "      <th>pScore badapple_classic (updated data)</th>\n",
       "    </tr>\n",
       "  </thead>\n",
       "  <tbody>\n",
       "    <tr>\n",
       "      <th>1</th>\n",
       "      <td>[BH2-](c1ccccc1)c1ccccc1</td>\n",
       "      <td>10.0</td>\n",
       "      <td>3.0</td>\n",
       "    </tr>\n",
       "    <tr>\n",
       "      <th>2</th>\n",
       "      <td>C1C2C1C1C3CC4C(C23)C41</td>\n",
       "      <td>0.0</td>\n",
       "      <td>0.0</td>\n",
       "    </tr>\n",
       "    <tr>\n",
       "      <th>3</th>\n",
       "      <td>C1C2C3C4OC5C3C1C1C2C4C51</td>\n",
       "      <td>0.0</td>\n",
       "      <td>0.0</td>\n",
       "    </tr>\n",
       "    <tr>\n",
       "      <th>4</th>\n",
       "      <td>C1C2C3CC4C5CC(C1C35)C24</td>\n",
       "      <td>4.0</td>\n",
       "      <td>1.0</td>\n",
       "    </tr>\n",
       "    <tr>\n",
       "      <th>5</th>\n",
       "      <td>C1=C2C3CCC4CC3C(CC2C2CCC3CCCCC3C2C1)O4</td>\n",
       "      <td>0.0</td>\n",
       "      <td>0.0</td>\n",
       "    </tr>\n",
       "    <tr>\n",
       "      <th>...</th>\n",
       "      <td>...</td>\n",
       "      <td>...</td>\n",
       "      <td>...</td>\n",
       "    </tr>\n",
       "    <tr>\n",
       "      <th>142877</th>\n",
       "      <td>S=P(NCCNP(=S)(N1CC1)N1CC1)(N1CC1)N1CC1</td>\n",
       "      <td>0.0</td>\n",
       "      <td>0.0</td>\n",
       "    </tr>\n",
       "    <tr>\n",
       "      <th>142878</th>\n",
       "      <td>S=P(NCCSCc1ccccc1)(N1CC1)N1CC1</td>\n",
       "      <td>1.0</td>\n",
       "      <td>1.0</td>\n",
       "    </tr>\n",
       "    <tr>\n",
       "      <th>142879</th>\n",
       "      <td>S=P(N=CN1CCOCC1)(N1CCOCC1)N1CCOCC1</td>\n",
       "      <td>0.0</td>\n",
       "      <td>0.0</td>\n",
       "    </tr>\n",
       "    <tr>\n",
       "      <th>142880</th>\n",
       "      <td>S=P(Nn1cnnc1)(c1ccccc1)c1ccccc1</td>\n",
       "      <td>0.0</td>\n",
       "      <td>0.0</td>\n",
       "    </tr>\n",
       "    <tr>\n",
       "      <th>142881</th>\n",
       "      <td>S=P(NN=Cc1ccccc1)(c1ccccc1)c1ccccc1</td>\n",
       "      <td>1.0</td>\n",
       "      <td>43.0</td>\n",
       "    </tr>\n",
       "  </tbody>\n",
       "</table>\n",
       "<p>139886 rows × 3 columns</p>\n",
       "</div>"
      ],
      "text/plain": [
       "                                       scafsmi  pScore badapple_classic  \\\n",
       "1                     [BH2-](c1ccccc1)c1ccccc1                     10.0   \n",
       "2                       C1C2C1C1C3CC4C(C23)C41                      0.0   \n",
       "3                     C1C2C3C4OC5C3C1C1C2C4C51                      0.0   \n",
       "4                      C1C2C3CC4C5CC(C1C35)C24                      4.0   \n",
       "5       C1=C2C3CCC4CC3C(CC2C2CCC3CCCCC3C2C1)O4                      0.0   \n",
       "...                                        ...                      ...   \n",
       "142877  S=P(NCCNP(=S)(N1CC1)N1CC1)(N1CC1)N1CC1                      0.0   \n",
       "142878          S=P(NCCSCc1ccccc1)(N1CC1)N1CC1                      1.0   \n",
       "142879      S=P(N=CN1CCOCC1)(N1CCOCC1)N1CCOCC1                      0.0   \n",
       "142880         S=P(Nn1cnnc1)(c1ccccc1)c1ccccc1                      0.0   \n",
       "142881     S=P(NN=Cc1ccccc1)(c1ccccc1)c1ccccc1                      1.0   \n",
       "\n",
       "        pScore badapple_classic (updated data)  \n",
       "1                                          3.0  \n",
       "2                                          0.0  \n",
       "3                                          0.0  \n",
       "4                                          1.0  \n",
       "5                                          0.0  \n",
       "...                                        ...  \n",
       "142877                                     0.0  \n",
       "142878                                     1.0  \n",
       "142879                                     0.0  \n",
       "142880                                     0.0  \n",
       "142881                                    43.0  \n",
       "\n",
       "[139886 rows x 3 columns]"
      ]
     },
     "execution_count": 36,
     "metadata": {},
     "output_type": "execute_result"
    }
   ],
   "source": [
    "shared_df"
   ]
  },
  {
   "cell_type": "markdown",
   "metadata": {},
   "source": [
    "## Parity plot"
   ]
  },
  {
   "cell_type": "code",
   "execution_count": 37,
   "metadata": {},
   "outputs": [],
   "source": [
    "def create_parity_plot(df: pd.DataFrame, x_col: str, y_col: str, title: str=None, save_fname: str = None):\n",
    "    plt.style.use('ggplot')\n",
    "    x, y = df[x_col], df[y_col]\n",
    "    plt.scatter(x, y, alpha=0.5)\n",
    "    # parity line\n",
    "    min_val = min(np.minimum(x, y))\n",
    "    max_val = max(np.maximum(x, y))\n",
    "    plt.plot(\n",
    "        [min_val, max_val],\n",
    "        [min_val, max_val],\n",
    "        \"k\",\n",
    "        lw=2,\n",
    "    )\n",
    "    plt.axis(\"scaled\")\n",
    "    ax = plt.gca()\n",
    "    ax.set_xlabel(x_col)\n",
    "    ax.set_ylabel(y_col)\n",
    "    if title is not None:\n",
    "        ax.set_title(title)\n",
    "    plt.tight_layout()\n",
    "    if save_fname is not None:\n",
    "        plt.savefig(save_fname, dpi=300)"
   ]
  },
  {
   "cell_type": "code",
   "execution_count": 38,
   "metadata": {},
   "outputs": [],
   "source": [
    "# use scipy to calculate correlation + pval\n",
    "correlation, p_value = pearsonr(shared_df[ORIGINAL_PSCORE_COL_NAME], shared_df[COMPARISON_PSCORE_COL_NAME])"
   ]
  },
  {
   "cell_type": "code",
   "execution_count": 42,
   "metadata": {},
   "outputs": [
    {
     "data": {
      "image/png": "[encoded data removed]",
      "text/plain": [
       "<Figure size 640x480 with 1 Axes>"
      ]
     },
     "metadata": {},
     "output_type": "display_data"
    }
   ],
   "source": [
    "# visualize parity plot \n",
    "ylabel = \"pScore badapple_classic (updated data)\"\n",
    "plot_title = f\"badapple_classic pScore Parity Plot\\nr = %.3f, n_points= %d\" % (correlation, len(shared_df))\n",
    "create_parity_plot(shared_df, ORIGINAL_PSCORE_COL_NAME, COMPARISON_PSCORE_COL_NAME, plot_title, \"classic_updated_parity_plot.png\")\n",
    "plt.show()"
   ]
  },
  {
   "cell_type": "markdown",
   "metadata": {},
   "source": [
    "# Close DB connections"
   ]
  },
  {
   "cell_type": "code",
   "execution_count": 43,
   "metadata": {},
   "outputs": [],
   "source": [
    "# Close the cursors\n",
    "original_db_cur.close()\n",
    "comparison_db_cur.close()\n",
    "\n",
    "# Close the connections\n",
    "original_db_connection.close()\n",
    "comparison_db_connection.close()"
   ]
  }
 ],
 "metadata": {
  "kernelspec": {
   "display_name": "badapple2",
   "language": "python",
   "name": "python3"
  },
  "language_info": {
   "codemirror_mode": {
    "name": "ipython",
    "version": 3
   },
   "file_extension": ".py",
   "mimetype": "text/x-python",
   "name": "python",
   "nbconvert_exporter": "python",
   "pygments_lexer": "ipython3",
   "version": "3.12.3"
  }
 },
 "nbformat": 4,
 "nbformat_minor": 2
}
